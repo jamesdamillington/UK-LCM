{
 "cells": [
  {
   "cell_type": "code",
   "execution_count": 1,
   "metadata": {},
   "outputs": [],
   "source": [
    "from osgeo import gdal"
   ]
  },
  {
   "cell_type": "code",
   "execution_count": 2,
   "metadata": {},
   "outputs": [],
   "source": [
    "#https://nsidc.org/support/faq/how-can-i-convert-geotiff-netcdf\n",
    "#Change the following variables to the file you want to convert (inputfile) and\n",
    "#what you want to name your output file (outputfile).\n",
    "inputfile = 'data/WoE/GI-Areas/lcm-1990-1km_4137015/dominant_value/LCM1990GBDOMINANT_.tif'\n",
    "outputfile = 'data/WoE/GI-Areas/lcm-1990-1km_4137015/dominant_value/LCM1990GBDOMINANT_.nc'\n",
    "#Do not change this line, the following command will convert the geoTIFF to a netCDF\n",
    "ds = gdal.Translate(outputfile, inputfile, format='NetCDF')"
   ]
  }
 ],
 "metadata": {
  "kernelspec": {
   "display_name": "Python [conda env:sds2020]",
   "language": "python",
   "name": "conda-env-sds2020-py"
  },
  "language_info": {
   "codemirror_mode": {
    "name": "ipython",
    "version": 3
   },
   "file_extension": ".py",
   "mimetype": "text/x-python",
   "name": "python",
   "nbconvert_exporter": "python",
   "pygments_lexer": "ipython3",
   "version": "3.6.11"
  }
 },
 "nbformat": 4,
 "nbformat_minor": 2
}
