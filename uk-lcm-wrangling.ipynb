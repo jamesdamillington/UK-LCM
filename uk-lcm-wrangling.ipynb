{
 "cells": [
  {
   "cell_type": "markdown",
   "metadata": {},
   "source": [
    "# LCM Spatial Wrangling\n",
    "\n",
    "_James Millington, November 2021._\n",
    "\n",
    "This notebook contains code used to produce data with consistent attributes for subsequent change analysis. Analysis will be similar to that presented by Clare Rowland of [UKCEH](https://www.ceh.ac.uk/) in her [ialeUK Landscape Connections](https://iale.uk/landscape-connections) talk [from 8:34](https://youtu.be/NZZvE6OH9bI?t=514). \n"
   ]
  },
  {
   "cell_type": "markdown",
   "metadata": {},
   "source": [
    "Data are [UK CEH LCM](https://www.ceh.ac.uk/ukceh-land-cover-maps) raster and ONS Geography vector as follows:\n",
    "1. Land Cover Map 1990 - 1km dominant target class, GB v2 (Rowland _et al._ 2020)\n",
    "2. Land Cover Map 2000 - 1km dominant target class, GB (Fuller _et al._ 2002)\n",
    "3. Land Cover Map 2015 - 1km dominant target class, GB (Rowland _et al._ 2017)\n",
    "4. Digital vector boundaries for Counties and Unitary Authorities in the UK (ONS Geography 2019)"
   ]
  },
  {
   "cell_type": "markdown",
   "metadata": {},
   "source": [
    "These references are:\n",
    "\n",
    "Fuller, R.M.; Smith, G.M.; Sanderson J.M.; Hill, R.A.; Thomson, A.G.; Cox, R.; Brown, N.J.; Clarke, R.T.; Rothery, P.; Gerard, F.F. (2002). Land Cover Map 2000 (1km dominant target class, GB). _NERC Environmental Information Data Centre._ https://doi.org/10.5285/abff8409-0995-48d2-9303-468e1a9fe3df\n",
    "\n",
    "ONS Geography (2019) Counties and Unitary Authorities (April 2019) Boundaries GB BGC. _Office for National Statistics_ https://geoportal.statistics.gov.uk/datasets/ons::counties-and-unitary-authorities-april-2019-boundaries-gb-bgc/about \n",
    "\n",
    "Rowland, C.S.; Morton, R.D.; Carrasco, L.; McShane, G.; O'Neil, A.W.; Wood, C.M. (2017). Land Cover Map 2015 (1km dominant target class, GB). _NERC Environmental Information Data Centre._ https://doi.org/10.5285/c4035f3d-d93e-4d63-a8f3-b00096f597f5\n",
    "\n",
    "Rowland, C.S.; Marston, C.G.; Morton, R.D.; O’Neil, A.W. (2020). Land Cover Map 1990 (1km dominant target class, GB) v2. NERC Environmental Information Data Centre. https://doi.org/10.5285/f5e3bd00-efd0-4dc6-a454-aa597d84764a"
   ]
  },
  {
   "cell_type": "markdown",
   "metadata": {},
   "source": [
    "Note the licences for these data:\n",
    "- [LCM licence](https://eidc.ceh.ac.uk/licences/lcm-raster/plain) (educational use only)\n",
    "- [boundary data licence](https://www.ons.gov.uk/methodology/geography/licences) (Contains both Ordnance Survey and ONS Intellectual Property Rights)"
   ]
  },
  {
   "cell_type": "code",
   "execution_count": 1,
   "metadata": {},
   "outputs": [
    {
     "name": "stdout",
     "output_type": "stream",
     "text": [
      "3.8.10 | packaged by conda-forge | (default, May 11 2021, 07:01:05) \n",
      "[GCC 9.3.0]\n",
      "1.2.4\n"
     ]
    }
   ],
   "source": [
    "import rasterio as rio\n",
    "import rasterio.mask\n",
    "import geopandas as gpd\n",
    "import matplotlib.pyplot as plt\n",
    "import numpy as np\n",
    "import copy\n",
    "import sys"
   ]
  },
  {
   "cell_type": "markdown",
   "metadata": {},
   "source": [
    "## Raster: Initial Wrangling\n",
    "\n",
    "The original raster data downloaded from [UKCEH](https://www.ceh.ac.uk/ukceh-land-cover-maps) we inconsistent in some of their attributes. This section fixes that, writing the data out to new `.tif` files. "
   ]
  },
  {
   "cell_type": "markdown",
   "metadata": {},
   "source": [
    "### Rasterio `DatasetReader` includes metadata\n",
    "\n",
    "We can use the `open` [function](https://rasterio.readthedocs.io/en/latest/api/rasterio.html#rasterio.open) directly to create objects:"
   ]
  },
  {
   "cell_type": "code",
   "execution_count": 2,
   "metadata": {},
   "outputs": [],
   "source": [
    "lcm1990v2 = rio.open(\"data/LCM/lcm-1990v2-1km-target-dom-gb/data/gb1990lcm1km_dominant.tif\")\n",
    "lcm2000 = rio.open(\"data/LCM/lcm-2000-1km-target-dom-gb/data/LCM2000_GB_1K_DOM_TAR.tif\")\n",
    "lcm2015 = rio.open(\"data/LCM/lcm-2015-1km-target-dom-gb/data/lcm2015_gb_1km_dominant_target_class.img\")"
   ]
  },
  {
   "cell_type": "markdown",
   "metadata": {},
   "source": [
    "Note this is a `DatasetReader` object and we haven't actually read the data into memory yet:"
   ]
  },
  {
   "cell_type": "code",
   "execution_count": 3,
   "metadata": {},
   "outputs": [
    {
     "name": "stdout",
     "output_type": "stream",
     "text": [
      "<class 'rasterio.io.DatasetReader'>\n"
     ]
    }
   ],
   "source": [
    "print(type(lcm2015))"
   ]
  },
  {
   "cell_type": "markdown",
   "metadata": {},
   "source": [
    "`DatasetReader` objects are useful because we can access information about the raster data before reading what can be very large data files into memory (taking up computer resources we might need for other data). See the attributes of `DatasetReader` objects [here](https://rasterio.readthedocs.io/en/latest/api/rasterio.io.html#rasterio.io.DatasetReader).\n",
    "\n",
    "For example, we can access the metadata of the raster file using the `meta` method on the `DatasetReader` object:  "
   ]
  },
  {
   "cell_type": "code",
   "execution_count": 4,
   "metadata": {
    "scrolled": true
   },
   "outputs": [
    {
     "data": {
      "text/plain": [
       "{'driver': 'GTiff',\n",
       " 'dtype': 'uint8',\n",
       " 'nodata': None,\n",
       " 'width': 700,\n",
       " 'height': 1300,\n",
       " 'count': 1,\n",
       " 'crs': CRS.from_epsg(27700),\n",
       " 'transform': Affine(1000.0, 0.0, 0.0,\n",
       "        0.0, -1000.0, 1300000.0)}"
      ]
     },
     "execution_count": 4,
     "metadata": {},
     "output_type": "execute_result"
    }
   ],
   "source": [
    "lcm1990v2.meta"
   ]
  },
  {
   "cell_type": "code",
   "execution_count": 5,
   "metadata": {},
   "outputs": [
    {
     "data": {
      "text/plain": [
       "{'driver': 'GTiff',\n",
       " 'dtype': 'uint8',\n",
       " 'nodata': 255.0,\n",
       " 'width': 700,\n",
       " 'height': 1300,\n",
       " 'count': 1,\n",
       " 'crs': CRS.from_wkt('PROJCS[\"OSGB 1936 / British National Grid\",GEOGCS[\"OSGB 1936\",DATUM[\"OSGB_1936\",SPHEROID[\"Airy 1830\",6377563.396,299.3249646,AUTHORITY[\"EPSG\",\"7001\"]],AUTHORITY[\"EPSG\",\"6277\"]],PRIMEM[\"Greenwich\",0],UNIT[\"degree\",0.0174532925199433,AUTHORITY[\"EPSG\",\"9122\"]]],PROJECTION[\"Transverse_Mercator\"],PARAMETER[\"latitude_of_origin\",49],PARAMETER[\"central_meridian\",-2],PARAMETER[\"scale_factor\",0.9996012717],PARAMETER[\"false_easting\",400000],PARAMETER[\"false_northing\",-100000],UNIT[\"metre\",1,AUTHORITY[\"EPSG\",\"9001\"]],AXIS[\"Easting\",EAST],AXIS[\"Northing\",NORTH]]'),\n",
       " 'transform': Affine(1000.0, 0.0, 0.0,\n",
       "        0.0, -1000.0, 1300000.0)}"
      ]
     },
     "execution_count": 5,
     "metadata": {},
     "output_type": "execute_result"
    }
   ],
   "source": [
    "lcm2000.meta"
   ]
  },
  {
   "cell_type": "code",
   "execution_count": 6,
   "metadata": {
    "scrolled": true
   },
   "outputs": [
    {
     "data": {
      "text/plain": [
       "{'driver': 'HFA',\n",
       " 'dtype': 'uint8',\n",
       " 'nodata': None,\n",
       " 'width': 700,\n",
       " 'height': 1300,\n",
       " 'count': 1,\n",
       " 'crs': CRS.from_wkt('PROJCS[\"Transverse Mercator\",GEOGCS[\"Ord. Survey G. Britain 1936\",DATUM[\"Ord. Survey G. Britain 1936\",SPHEROID[\"Airy\",6377563.396,299.324975315035],TOWGS84[375,-111,431,0,0,0,0]],PRIMEM[\"Greenwich\",0],UNIT[\"degree\",0.0174532925199433,AUTHORITY[\"EPSG\",\"9122\"]]],PROJECTION[\"Transverse_Mercator\"],PARAMETER[\"latitude_of_origin\",49],PARAMETER[\"central_meridian\",-2],PARAMETER[\"scale_factor\",0.9996012717],PARAMETER[\"false_easting\",400000],PARAMETER[\"false_northing\",-100000],UNIT[\"meters\",1],AXIS[\"Easting\",EAST],AXIS[\"Northing\",NORTH]]'),\n",
       " 'transform': Affine(1000.0, 0.0, 0.0,\n",
       "        0.0, -1000.0, 1300000.0)}"
      ]
     },
     "execution_count": 6,
     "metadata": {},
     "output_type": "execute_result"
    }
   ],
   "source": [
    "lcm2015.meta"
   ]
  },
  {
   "cell_type": "markdown",
   "metadata": {},
   "source": [
    "The `meta` attribute is a dictionary containing the basic metadata of the dataset. It contains information on:\n",
    "- driver: the file format ([using](https://rasterio.readthedocs.io/en/latest/api/rasterio.drivers.html) GDAL standard); examples include GeoTiff and NetCDF\n",
    "- dtype: the data type(s) of band(s) in the dataset (in index order); examples include int and float\n",
    "- nodata: the value used to indicate pixels that do not contain valid data\n",
    "- width: the number of pixels in the horizontal\n",
    "- height: the number of pixels in the vertial\n",
    "- count: the number of bands in the dataset\n",
    "- crs: the coordinate reference system (i.e. the definition of the real-world system in which a raster’s pixels are located)\n",
    "- transform: the parameters by which pixel coordinates (in the data grid) are transformed into coordinates in the CRS (see more [here](https://rasterio.readthedocs.io/en/latest/topics/georeferencing.html))\n"
   ]
  },
  {
   "cell_type": "markdown",
   "metadata": {},
   "source": [
    "From the output above we can see the datasets are very similar but not identical, with differences in:\n",
    "1. `driver`: The 2015 file is in Erdas Imagine (`.img`) format, which the reader recognises. Once the data are read, this shouldn't make a difference. \n",
    "2. `nodata`: I believe all of these are incorrect as additional metadata online suggests the `nodata` value is likely zero (as it is not included in the classification table) and the 255 is likely from RGB bands (pre-classification)\n",
    "3. `CRS`: this is likely actually the same for all datasets, both because the source of the data is the same (CEH) and because [EPSG 27700](https://epsg.io/27700) (`from_epsg` in the 2015 dataset) is OSBG 1936 (`from_wkt` in the 1990 dataset). 2000 and 2015 have definition `from_wkt`, 1990 from `from_epsg`"
   ]
  },
  {
   "cell_type": "markdown",
   "metadata": {},
   "source": [
    "To update the metadata (so that all three datafiles are consistent) we can use the `update` method on the `profile` attribute and then write the new file to disk. "
   ]
  },
  {
   "cell_type": "code",
   "execution_count": 7,
   "metadata": {},
   "outputs": [],
   "source": [
    "out_profile = lcm1990v2.profile\n",
    "out_profile.update({\"nodata\": 0,\n",
    "                 \"crs\": lcm2015.crs})\n",
    "\n",
    "#https://rasterio.readthedocs.io/en/latest/topics/writing.html\n",
    "with rio.Env():\n",
    "    \n",
    "    with rio.open('data/output/lcm1990v2-1km-tar-dom-gb.tif', 'w', **out_profile) as dst:\n",
    "        dst.write(lcm1990v2.read(1),1) "
   ]
  },
  {
   "cell_type": "code",
   "execution_count": 8,
   "metadata": {},
   "outputs": [],
   "source": [
    "out_profile = lcm2000.profile\n",
    "out_profile.update({\"nodata\": 0})\n",
    "\n",
    "#https://rasterio.readthedocs.io/en/latest/topics/writing.html\n",
    "with rio.Env():\n",
    "    \n",
    "    with rio.open('data/output/lcm2000-1km-tar-dom-gb.tif', 'w', **out_profile) as dst:\n",
    "        dst.write(lcm2000.read(1),1) "
   ]
  },
  {
   "cell_type": "code",
   "execution_count": 9,
   "metadata": {},
   "outputs": [],
   "source": [
    "out_profile = lcm2015.profile\n",
    "out_profile.update({\"nodata\": 0})\n",
    "\n",
    "#https://rasterio.readthedocs.io/en/latest/topics/writing.html\n",
    "with rio.Env():\n",
    "    \n",
    "    with rio.open('data/output/lcm2015-1km-tar-dom-gb.tif', 'w', **out_profile) as dst:\n",
    "        dst.write(lcm2015.read(1),1) "
   ]
  },
  {
   "cell_type": "markdown",
   "metadata": {},
   "source": [
    "When we read these new files back in, we can see that they now have consistent metadata"
   ]
  },
  {
   "cell_type": "code",
   "execution_count": 10,
   "metadata": {},
   "outputs": [],
   "source": [
    "lcm1990v2 = rio.open('data/output/lcm1990v2-1km-tar-dom-gb.tif')\n",
    "lcm2000 = rio.open('data/output/lcm2000-1km-tar-dom-gb.tif')\n",
    "lcm2015 = rio.open('data/output/lcm2015-1km-tar-dom-gb.tif')"
   ]
  },
  {
   "cell_type": "code",
   "execution_count": 11,
   "metadata": {},
   "outputs": [
    {
     "data": {
      "text/plain": [
       "{'driver': 'GTiff',\n",
       " 'dtype': 'uint8',\n",
       " 'nodata': 0.0,\n",
       " 'width': 700,\n",
       " 'height': 1300,\n",
       " 'count': 1,\n",
       " 'crs': CRS.from_wkt('PROJCS[\"Transverse Mercator\",GEOGCS[\"Ord. Survey G. Britain 1936\",DATUM[\"Ord_Survey_G_Britain_1936\",SPHEROID[\"Airy\",6377563.396,299.324975315035],TOWGS84[375,-111,431,0,0,0,0]],PRIMEM[\"Greenwich\",0],UNIT[\"degree\",0.0174532925199433,AUTHORITY[\"EPSG\",\"9122\"]]],PROJECTION[\"Transverse_Mercator\"],PARAMETER[\"latitude_of_origin\",49],PARAMETER[\"central_meridian\",-2],PARAMETER[\"scale_factor\",0.9996012717],PARAMETER[\"false_easting\",400000],PARAMETER[\"false_northing\",-100000],UNIT[\"metre\",1,AUTHORITY[\"EPSG\",\"9001\"]],AXIS[\"Easting\",EAST],AXIS[\"Northing\",NORTH]]'),\n",
       " 'transform': Affine(1000.0, 0.0, 0.0,\n",
       "        0.0, -1000.0, 1300000.0)}"
      ]
     },
     "execution_count": 11,
     "metadata": {},
     "output_type": "execute_result"
    }
   ],
   "source": [
    "lcm1990v2.meta"
   ]
  },
  {
   "cell_type": "code",
   "execution_count": 12,
   "metadata": {},
   "outputs": [
    {
     "data": {
      "text/plain": [
       "{'driver': 'GTiff',\n",
       " 'dtype': 'uint8',\n",
       " 'nodata': 0.0,\n",
       " 'width': 700,\n",
       " 'height': 1300,\n",
       " 'count': 1,\n",
       " 'crs': CRS.from_wkt('PROJCS[\"OSGB 1936 / British National Grid\",GEOGCS[\"OSGB 1936\",DATUM[\"OSGB_1936\",SPHEROID[\"Airy 1830\",6377563.396,299.324964600004,AUTHORITY[\"EPSG\",\"7001\"]],AUTHORITY[\"EPSG\",\"6277\"]],PRIMEM[\"Greenwich\",0],UNIT[\"degree\",0.0174532925199433,AUTHORITY[\"EPSG\",\"9122\"]]],PROJECTION[\"Transverse_Mercator\"],PARAMETER[\"latitude_of_origin\",49],PARAMETER[\"central_meridian\",-2],PARAMETER[\"scale_factor\",0.9996012717],PARAMETER[\"false_easting\",400000],PARAMETER[\"false_northing\",-100000],UNIT[\"metre\",1,AUTHORITY[\"EPSG\",\"9001\"]],AXIS[\"Easting\",EAST],AXIS[\"Northing\",NORTH]]'),\n",
       " 'transform': Affine(1000.0, 0.0, 0.0,\n",
       "        0.0, -1000.0, 1300000.0)}"
      ]
     },
     "execution_count": 12,
     "metadata": {},
     "output_type": "execute_result"
    }
   ],
   "source": [
    "lcm2000.meta"
   ]
  },
  {
   "cell_type": "code",
   "execution_count": 13,
   "metadata": {},
   "outputs": [
    {
     "data": {
      "text/plain": [
       "{'driver': 'HFA',\n",
       " 'dtype': 'uint8',\n",
       " 'nodata': 0.0,\n",
       " 'width': 700,\n",
       " 'height': 1300,\n",
       " 'count': 1,\n",
       " 'crs': CRS.from_wkt('PROJCS[\"Transverse Mercator\",GEOGCS[\"Ord. Survey G. Britain 1936\",DATUM[\"Ord. Survey G. Britain 1936\",SPHEROID[\"Airy\",6377563.396,299.324975315035],TOWGS84[375,-111,431,0,0,0,0]],PRIMEM[\"Greenwich\",0],UNIT[\"degree\",0.0174532925199433,AUTHORITY[\"EPSG\",\"9122\"]]],PROJECTION[\"Transverse_Mercator\"],PARAMETER[\"latitude_of_origin\",49],PARAMETER[\"central_meridian\",-2],PARAMETER[\"scale_factor\",0.9996012717],PARAMETER[\"false_easting\",400000],PARAMETER[\"false_northing\",-100000],UNIT[\"meters\",1],AXIS[\"Easting\",EAST],AXIS[\"Northing\",NORTH]]'),\n",
       " 'transform': Affine(1000.0, 0.0, 0.0,\n",
       "        0.0, -1000.0, 1300000.0)}"
      ]
     },
     "execution_count": 13,
     "metadata": {},
     "output_type": "execute_result"
    }
   ],
   "source": [
    "lcm2015.meta"
   ]
  },
  {
   "cell_type": "markdown",
   "metadata": {},
   "source": [
    "## Vector"
   ]
  },
  {
   "cell_type": "markdown",
   "metadata": {},
   "source": [
    "The vector data we will use are from [ONS Geography](https://geoportal.statistics.gov.uk/datasets/ons::counties-and-unitary-authorities-april-2019-boundaries-gb-bgc/about) (2019)"
   ]
  },
  {
   "cell_type": "code",
   "execution_count": 14,
   "metadata": {
    "scrolled": true
   },
   "outputs": [
    {
     "data": {
      "text/html": [
       "<div>\n",
       "<style scoped>\n",
       "    .dataframe tbody tr th:only-of-type {\n",
       "        vertical-align: middle;\n",
       "    }\n",
       "\n",
       "    .dataframe tbody tr th {\n",
       "        vertical-align: top;\n",
       "    }\n",
       "\n",
       "    .dataframe thead th {\n",
       "        text-align: right;\n",
       "    }\n",
       "</style>\n",
       "<table border=\"1\" class=\"dataframe\">\n",
       "  <thead>\n",
       "    <tr style=\"text-align: right;\">\n",
       "      <th></th>\n",
       "      <th>ctyua19cd</th>\n",
       "      <th>ctyua19nm</th>\n",
       "      <th>ctyua19nmw</th>\n",
       "      <th>bng_e</th>\n",
       "      <th>bng_n</th>\n",
       "      <th>long</th>\n",
       "      <th>lat</th>\n",
       "      <th>st_areashape</th>\n",
       "      <th>st_lengthshape</th>\n",
       "      <th>geometry</th>\n",
       "    </tr>\n",
       "    <tr>\n",
       "      <th>objectid</th>\n",
       "      <th></th>\n",
       "      <th></th>\n",
       "      <th></th>\n",
       "      <th></th>\n",
       "      <th></th>\n",
       "      <th></th>\n",
       "      <th></th>\n",
       "      <th></th>\n",
       "      <th></th>\n",
       "      <th></th>\n",
       "    </tr>\n",
       "  </thead>\n",
       "  <tbody>\n",
       "    <tr>\n",
       "      <th>1</th>\n",
       "      <td>E06000001</td>\n",
       "      <td>Hartlepool</td>\n",
       "      <td></td>\n",
       "      <td>447157</td>\n",
       "      <td>531476</td>\n",
       "      <td>-1.27023</td>\n",
       "      <td>54.676159</td>\n",
       "      <td>9.364022e+07</td>\n",
       "      <td>69232.916248</td>\n",
       "      <td>MULTIPOLYGON (((-1.23306 54.62741, -1.23292 54...</td>\n",
       "    </tr>\n",
       "    <tr>\n",
       "      <th>2</th>\n",
       "      <td>E06000002</td>\n",
       "      <td>Middlesbrough</td>\n",
       "      <td></td>\n",
       "      <td>451141</td>\n",
       "      <td>516887</td>\n",
       "      <td>-1.21099</td>\n",
       "      <td>54.544670</td>\n",
       "      <td>5.387847e+07</td>\n",
       "      <td>42081.032562</td>\n",
       "      <td>MULTIPOLYGON (((-1.20035 54.57697, -1.20040 54...</td>\n",
       "    </tr>\n",
       "    <tr>\n",
       "      <th>3</th>\n",
       "      <td>E06000003</td>\n",
       "      <td>Redcar and Cleveland</td>\n",
       "      <td></td>\n",
       "      <td>464359</td>\n",
       "      <td>519597</td>\n",
       "      <td>-1.00611</td>\n",
       "      <td>54.567520</td>\n",
       "      <td>2.448736e+08</td>\n",
       "      <td>96004.895063</td>\n",
       "      <td>MULTIPOLYGON (((-1.20036 54.57702, -1.20029 54...</td>\n",
       "    </tr>\n",
       "    <tr>\n",
       "      <th>4</th>\n",
       "      <td>E06000004</td>\n",
       "      <td>Stockton-on-Tees</td>\n",
       "      <td></td>\n",
       "      <td>444937</td>\n",
       "      <td>518183</td>\n",
       "      <td>-1.30669</td>\n",
       "      <td>54.556911</td>\n",
       "      <td>2.049584e+08</td>\n",
       "      <td>115262.590755</td>\n",
       "      <td>MULTIPOLYGON (((-1.23878 54.62786, -1.23880 54...</td>\n",
       "    </tr>\n",
       "    <tr>\n",
       "      <th>5</th>\n",
       "      <td>E06000005</td>\n",
       "      <td>Darlington</td>\n",
       "      <td></td>\n",
       "      <td>428029</td>\n",
       "      <td>515648</td>\n",
       "      <td>-1.56835</td>\n",
       "      <td>54.535339</td>\n",
       "      <td>1.974976e+08</td>\n",
       "      <td>105784.983937</td>\n",
       "      <td>POLYGON ((-1.43836 54.59508, -1.44000 54.59447...</td>\n",
       "    </tr>\n",
       "  </tbody>\n",
       "</table>\n",
       "</div>"
      ],
      "text/plain": [
       "          ctyua19cd             ctyua19nm ctyua19nmw   bng_e   bng_n     long  \\\n",
       "objectid                                                                        \n",
       "1         E06000001            Hartlepool             447157  531476 -1.27023   \n",
       "2         E06000002         Middlesbrough             451141  516887 -1.21099   \n",
       "3         E06000003  Redcar and Cleveland             464359  519597 -1.00611   \n",
       "4         E06000004      Stockton-on-Tees             444937  518183 -1.30669   \n",
       "5         E06000005            Darlington             428029  515648 -1.56835   \n",
       "\n",
       "                lat  st_areashape  st_lengthshape  \\\n",
       "objectid                                            \n",
       "1         54.676159  9.364022e+07    69232.916248   \n",
       "2         54.544670  5.387847e+07    42081.032562   \n",
       "3         54.567520  2.448736e+08    96004.895063   \n",
       "4         54.556911  2.049584e+08   115262.590755   \n",
       "5         54.535339  1.974976e+08   105784.983937   \n",
       "\n",
       "                                                   geometry  \n",
       "objectid                                                     \n",
       "1         MULTIPOLYGON (((-1.23306 54.62741, -1.23292 54...  \n",
       "2         MULTIPOLYGON (((-1.20035 54.57697, -1.20040 54...  \n",
       "3         MULTIPOLYGON (((-1.20036 54.57702, -1.20029 54...  \n",
       "4         MULTIPOLYGON (((-1.23878 54.62786, -1.23880 54...  \n",
       "5         POLYGON ((-1.43836 54.59508, -1.44000 54.59447...  "
      ]
     },
     "execution_count": 14,
     "metadata": {},
     "output_type": "execute_result"
    }
   ],
   "source": [
    "lads = gpd.read_file(\"data/vector/Counties_and_Unitary_Authorities_(April_2019)_Boundaries_GB_BGC.geojson\").set_index('objectid')\n",
    "lads.head()"
   ]
  },
  {
   "cell_type": "markdown",
   "metadata": {},
   "source": [
    "From the `geometry` column the CRS looks to be un-projected. We can check the stored CRS:"
   ]
  },
  {
   "cell_type": "code",
   "execution_count": 15,
   "metadata": {
    "scrolled": true
   },
   "outputs": [
    {
     "name": "stdout",
     "output_type": "stream",
     "text": [
      "epsg:4326\n"
     ]
    }
   ],
   "source": [
    "print(lads.crs)"
   ]
  },
  {
   "cell_type": "markdown",
   "metadata": {},
   "source": [
    "This is the [EPSG for WGS84](https://epsg.io/4326), _but_\n",
    "\n",
    "> The coordinate reference system for all GeoJSON coordinates is a geographic coordinate reference system, using the [World Geodetic System 1984 (WGS 84) datum](https://epsg.io/4326), with longitude and latitude units of decimal degrees. [[source]](https://datatracker.ietf.org/doc/html/rfc7946#page-12)\n",
    "\n",
    "So we should check this still looks like unprojected data when we plot it:  "
   ]
  },
  {
   "cell_type": "code",
   "execution_count": 16,
   "metadata": {
    "scrolled": true
   },
   "outputs": [
    {
     "data": {
      "text/plain": [
       "<AxesSubplot:>"
      ]
     },
     "execution_count": 16,
     "metadata": {},
     "output_type": "execute_result"
    },
    {
     "data": {
      "image/png": "[encoded data removed]",
      "text/plain": [
       "<Figure size 432x288 with 1 Axes>"
      ]
     },
     "metadata": {
      "needs_background": "light"
     },
     "output_type": "display_data"
    }
   ],
   "source": [
    "lads.plot()"
   ]
  },
  {
   "cell_type": "markdown",
   "metadata": {},
   "source": [
    "This looks like it is unprojected (lat, long) so we will re-project to align the vector data with the raster data which use the [OSGB 1936 / British National Grid](https://en.wikipedia.org/wiki/Ordnance_Survey_National_Grid). The EPSG code of OSGB 1936 is `27700` (hence that value used in the code above). You can find ESPG codes for different CRS by [searching epsg.io](https://epsg.io)."
   ]
  },
  {
   "cell_type": "code",
   "execution_count": 17,
   "metadata": {
    "scrolled": true
   },
   "outputs": [
    {
     "name": "stderr",
     "output_type": "stream",
     "text": [
      "/home/james/anaconda3/envs/sds2021/lib/python3.8/site-packages/pyproj/crs/crs.py:68: FutureWarning: '+init=<authority>:<code>' syntax is deprecated. '<authority>:<code>' is the preferred initialization method. When making the change, be mindful of axis order changes: https://pyproj4.github.io/pyproj/stable/gotchas.html#axis-order-changes-in-proj-6\n",
      "  return _prepare_from_string(\" \".join(pjargs))\n"
     ]
    }
   ],
   "source": [
    "lads_osbg  = lads.to_crs({'init': 'epsg:27700'})"
   ]
  },
  {
   "cell_type": "markdown",
   "metadata": {},
   "source": [
    "Now when we plot:"
   ]
  },
  {
   "cell_type": "code",
   "execution_count": 18,
   "metadata": {
    "scrolled": true
   },
   "outputs": [
    {
     "data": {
      "text/plain": [
       "<AxesSubplot:>"
      ]
     },
     "execution_count": 18,
     "metadata": {},
     "output_type": "execute_result"
    },
    {
     "data": {
      "image/png": "[encoded data removed]",
      "text/plain": [
       "<Figure size 432x288 with 1 Axes>"
      ]
     },
     "metadata": {
      "needs_background": "light"
     },
     "output_type": "display_data"
    }
   ],
   "source": [
    "lads_osbg.plot()"
   ]
  },
  {
   "cell_type": "markdown",
   "metadata": {},
   "source": [
    "The coordinates seem more consistent with OSBG' Let's check the coords in the `geometry` column:"
   ]
  },
  {
   "cell_type": "code",
   "execution_count": 19,
   "metadata": {
    "scrolled": true
   },
   "outputs": [
    {
     "data": {
      "text/html": [
       "<div>\n",
       "<style scoped>\n",
       "    .dataframe tbody tr th:only-of-type {\n",
       "        vertical-align: middle;\n",
       "    }\n",
       "\n",
       "    .dataframe tbody tr th {\n",
       "        vertical-align: top;\n",
       "    }\n",
       "\n",
       "    .dataframe thead th {\n",
       "        text-align: right;\n",
       "    }\n",
       "</style>\n",
       "<table border=\"1\" class=\"dataframe\">\n",
       "  <thead>\n",
       "    <tr style=\"text-align: right;\">\n",
       "      <th></th>\n",
       "      <th>ctyua19cd</th>\n",
       "      <th>ctyua19nm</th>\n",
       "      <th>ctyua19nmw</th>\n",
       "      <th>bng_e</th>\n",
       "      <th>bng_n</th>\n",
       "      <th>long</th>\n",
       "      <th>lat</th>\n",
       "      <th>st_areashape</th>\n",
       "      <th>st_lengthshape</th>\n",
       "      <th>geometry</th>\n",
       "    </tr>\n",
       "    <tr>\n",
       "      <th>objectid</th>\n",
       "      <th></th>\n",
       "      <th></th>\n",
       "      <th></th>\n",
       "      <th></th>\n",
       "      <th></th>\n",
       "      <th></th>\n",
       "      <th></th>\n",
       "      <th></th>\n",
       "      <th></th>\n",
       "      <th></th>\n",
       "    </tr>\n",
       "  </thead>\n",
       "  <tbody>\n",
       "    <tr>\n",
       "      <th>201</th>\n",
       "      <td>W06000020</td>\n",
       "      <td>Torfaen</td>\n",
       "      <td>Torfaen</td>\n",
       "      <td>327459</td>\n",
       "      <td>200480</td>\n",
       "      <td>-3.05101</td>\n",
       "      <td>51.698360</td>\n",
       "      <td>1.262122e+08</td>\n",
       "      <td>79049.833853</td>\n",
       "      <td>POLYGON ((333723.012 192653.907, 333682.710 19...</td>\n",
       "    </tr>\n",
       "    <tr>\n",
       "      <th>202</th>\n",
       "      <td>W06000021</td>\n",
       "      <td>Monmouthshire</td>\n",
       "      <td>Sir Fynwy</td>\n",
       "      <td>337812</td>\n",
       "      <td>209231</td>\n",
       "      <td>-2.90280</td>\n",
       "      <td>51.778271</td>\n",
       "      <td>8.502912e+08</td>\n",
       "      <td>218310.870415</td>\n",
       "      <td>MULTIPOLYGON (((327822.013 231019.604, 327495....</td>\n",
       "    </tr>\n",
       "    <tr>\n",
       "      <th>203</th>\n",
       "      <td>W06000022</td>\n",
       "      <td>Newport</td>\n",
       "      <td>Casnewydd</td>\n",
       "      <td>337897</td>\n",
       "      <td>187433</td>\n",
       "      <td>-2.89769</td>\n",
       "      <td>51.582321</td>\n",
       "      <td>1.905076e+08</td>\n",
       "      <td>148747.859591</td>\n",
       "      <td>MULTIPOLYGON (((342379.411 194677.607, 342358....</td>\n",
       "    </tr>\n",
       "    <tr>\n",
       "      <th>204</th>\n",
       "      <td>W06000023</td>\n",
       "      <td>Powys</td>\n",
       "      <td>Powys</td>\n",
       "      <td>302328</td>\n",
       "      <td>273254</td>\n",
       "      <td>-3.43533</td>\n",
       "      <td>52.348629</td>\n",
       "      <td>5.195410e+09</td>\n",
       "      <td>590106.160512</td>\n",
       "      <td>POLYGON ((322891.616 333139.303, 322820.312 33...</td>\n",
       "    </tr>\n",
       "    <tr>\n",
       "      <th>205</th>\n",
       "      <td>W06000024</td>\n",
       "      <td>Merthyr Tydfil</td>\n",
       "      <td>Merthyr Tudful</td>\n",
       "      <td>305916</td>\n",
       "      <td>206424</td>\n",
       "      <td>-3.36425</td>\n",
       "      <td>51.748581</td>\n",
       "      <td>1.119431e+08</td>\n",
       "      <td>65340.207828</td>\n",
       "      <td>POLYGON ((308057.316 211036.204, 306885.413 21...</td>\n",
       "    </tr>\n",
       "  </tbody>\n",
       "</table>\n",
       "</div>"
      ],
      "text/plain": [
       "          ctyua19cd       ctyua19nm      ctyua19nmw   bng_e   bng_n     long  \\\n",
       "objectid                                                                       \n",
       "201       W06000020         Torfaen         Torfaen  327459  200480 -3.05101   \n",
       "202       W06000021   Monmouthshire       Sir Fynwy  337812  209231 -2.90280   \n",
       "203       W06000022         Newport       Casnewydd  337897  187433 -2.89769   \n",
       "204       W06000023           Powys           Powys  302328  273254 -3.43533   \n",
       "205       W06000024  Merthyr Tydfil  Merthyr Tudful  305916  206424 -3.36425   \n",
       "\n",
       "                lat  st_areashape  st_lengthshape  \\\n",
       "objectid                                            \n",
       "201       51.698360  1.262122e+08    79049.833853   \n",
       "202       51.778271  8.502912e+08   218310.870415   \n",
       "203       51.582321  1.905076e+08   148747.859591   \n",
       "204       52.348629  5.195410e+09   590106.160512   \n",
       "205       51.748581  1.119431e+08    65340.207828   \n",
       "\n",
       "                                                   geometry  \n",
       "objectid                                                     \n",
       "201       POLYGON ((333723.012 192653.907, 333682.710 19...  \n",
       "202       MULTIPOLYGON (((327822.013 231019.604, 327495....  \n",
       "203       MULTIPOLYGON (((342379.411 194677.607, 342358....  \n",
       "204       POLYGON ((322891.616 333139.303, 322820.312 33...  \n",
       "205       POLYGON ((308057.316 211036.204, 306885.413 21...  "
      ]
     },
     "execution_count": 19,
     "metadata": {},
     "output_type": "execute_result"
    }
   ],
   "source": [
    "lads_osbg.tail()"
   ]
  },
  {
   "cell_type": "markdown",
   "metadata": {},
   "source": [
    "This look good. So now write to file:"
   ]
  },
  {
   "cell_type": "code",
   "execution_count": 20,
   "metadata": {},
   "outputs": [],
   "source": [
    "lads_osbg.to_file(\"data/output/Counties_and_Unitary_Authorities_April2019_GB_BGC_osbg.geojson\", driver='GeoJSON')"
   ]
  },
  {
   "cell_type": "markdown",
   "metadata": {},
   "source": [
    "## Raster: Crop and Reclassify"
   ]
  },
  {
   "cell_type": "markdown",
   "metadata": {},
   "source": [
    "<a name=\"section2\"></a>\n",
    "### Crop Raster Data"
   ]
  },
  {
   "cell_type": "markdown",
   "metadata": {},
   "source": [
    "From the [EarthLab cropping tutorial](https://www.earthdatascience.org/workshops/gis-open-source-python/crop-raster-data-in-python/):\n",
    "\n",
    "> _What Does Crop a Raster Mean?_\n",
    ">\n",
    ">Cropping (sometimes also referred to as clipping), is when you subset or make a dataset smaller, by removing all data outside of the crop area or spatial extent. ...\n",
    "This is useful as it:\n",
    ">\n",
    ">- Makes the data smaller and\n",
    ">- Makes processing and plotting faster\n",
    ">\n",
    ">In general when you can, it’s often a good idea to crop your raster data!\n",
    "\n",
    "We'll do our crop using the `rasterio mask` [function](https://rasterio.readthedocs.io/en/latest/api/rasterio.mask.html?highlight=mask#rasterio.mask.mask). To use the function, at a minimum we need to to pass it:\n",
    "1. the raster `dataset` we want to crop (as a `DatasetReader` object)\n",
    "2. the vector `shapes` that define the extent we want to crop to (here this is the `geometry` column of our GeoDataFrame)\n",
    "2. indicate `crop=True`"
   ]
  },
  {
   "cell_type": "code",
   "execution_count": 23,
   "metadata": {},
   "outputs": [],
   "source": [
    "lcm2015_wales, lcm2015_wales_transform = rasterio.mask.mask(dataset=lcm2015, shapes=wales.geometry, crop=True)"
   ]
  },
  {
   "cell_type": "markdown",
   "metadata": {},
   "source": [
    "Note that the `rasterio mask` function returns two elements (potentially as a tuple):\n",
    "1. a `ndarray` for data contained in the raster after applying the mask\n",
    "2. a `Affine` object (also known as the `transform`) that contains information for mapping pixel coordinates in our masked raster to another coordinate system (like CRS data).  \n",
    "\n",
    "We can check the `type` and `shape` our our new, masked, raster data: "
   ]
  },
  {
   "cell_type": "code",
   "execution_count": 24,
   "metadata": {},
   "outputs": [
    {
     "name": "stdout",
     "output_type": "stream",
     "text": [
      "<class 'numpy.ndarray'>\n"
     ]
    }
   ],
   "source": [
    "print(type(lcm2015_wales))"
   ]
  },
  {
   "cell_type": "code",
   "execution_count": 25,
   "metadata": {
    "scrolled": true
   },
   "outputs": [
    {
     "data": {
      "text/plain": [
       "(1, 232, 197)"
      ]
     },
     "execution_count": 25,
     "metadata": {},
     "output_type": "execute_result"
    }
   ],
   "source": [
    "lcm2015_wales.shape"
   ]
  },
  {
   "cell_type": "markdown",
   "metadata": {},
   "source": [
    "The `ndarray` we have created is still 3D, but now it seems to have fewer pixels in the 2D (232 vs 1300 and 197 vs 700 previously). Let's plot to visualise the new raster:  "
   ]
  },
  {
   "cell_type": "code",
   "execution_count": 26,
   "metadata": {},
   "outputs": [
    {
     "data": {
      "text/plain": [
       "<matplotlib.image.AxesImage at 0x7f42b62fb550>"
      ]
     },
     "execution_count": 26,
     "metadata": {},
     "output_type": "execute_result"
    },
    {
     "data": {
      "image/png": "[encoded data removed]",
      "text/plain": [
       "<Figure size 432x288 with 1 Axes>"
      ]
     },
     "metadata": {
      "needs_background": "light"
     },
     "output_type": "display_data"
    }
   ],
   "source": [
    "plt.imshow(lcm2015_wales[0], cmap='viridis')"
   ]
  },
  {
   "cell_type": "markdown",
   "metadata": {},
   "source": [
    "It isn't vital we understand the contents of the `transform` data now, but note how this is similar to the `transform` attribute in the original data we read at the start of the notebook:"
   ]
  },
  {
   "cell_type": "code",
   "execution_count": 27,
   "metadata": {},
   "outputs": [
    {
     "data": {
      "text/plain": [
       "Affine(1000.0, 0.0, 159000.0,\n",
       "       0.0, -1000.0, 396000.0)"
      ]
     },
     "execution_count": 27,
     "metadata": {},
     "output_type": "execute_result"
    }
   ],
   "source": [
    "lcm2015_wales_transform"
   ]
  },
  {
   "cell_type": "markdown",
   "metadata": {},
   "source": [
    "#### Write Raster to File\n",
    "\n",
    "As we have created a new dataset, it might be useful to write this to a file on disk in case we want to share it with other or use it again in future (without needing to do all the manipulation again). An example of writing to file is shown in the [rasterio instructions on masking](https://rasterio.readthedocs.io/en/latest/topics/masking-by-shapefile.html). We will adapt these slightly to write our own function to write our cropped raster:"
   ]
  },
  {
   "cell_type": "code",
   "execution_count": 28,
   "metadata": {},
   "outputs": [],
   "source": [
    "#function to write ndarray to file as a .tif (with CRS etc)\n",
    "def write_nd_to_tif(nd, meta, transform, filename):\n",
    "    \n",
    "    #update meta from original to new data extent and transform \n",
    "    meta.update({\"driver\": \"GTiff\",\n",
    "                 \"height\": nd.shape[1],\n",
    "                 \"width\": nd.shape[2],\n",
    "                 \"transform\": transform})\n",
    "\n",
    "    with rasterio.open(filename, \"w\", **meta) as dest:\n",
    "        dest.write(nd)"
   ]
  },
  {
   "cell_type": "markdown",
   "metadata": {},
   "source": [
    "When writing the file, not only do we need to write the raster data itself (in the `ndarray`) but also the metadata containing all the CRS and other spatial information. See how the function above takes existing an `meta` specification and updates it to the current extent of the `ndarray`. The function also uses the `Affine` (i.e. `transform`) object output from the `rasterio mask` function. \n",
    "\n",
    "So to use this function for our newly cropped raster:"
   ]
  },
  {
   "cell_type": "code",
   "execution_count": 29,
   "metadata": {},
   "outputs": [],
   "source": [
    "write_nd_to_tif(nd=lcm2015_wales, \n",
    "                meta=lcm2015.meta, \n",
    "                transform=lcm2015_wales_transform, \n",
    "                filename=\"data/output/lcm2015_wales.tif\")"
   ]
  },
  {
   "cell_type": "markdown",
   "metadata": {},
   "source": [
    "Go and check this file has been created on disk!"
   ]
  },
  {
   "cell_type": "markdown",
   "metadata": {},
   "source": [
    "### Now for 1990 and 2000!"
   ]
  },
  {
   "cell_type": "code",
   "execution_count": 30,
   "metadata": {},
   "outputs": [
    {
     "name": "stdout",
     "output_type": "stream",
     "text": [
      "(1, 232, 197)\n",
      "| 1000.00, 0.00, 159000.00|\n",
      "| 0.00,-1000.00, 396000.00|\n",
      "| 0.00, 0.00, 1.00|\n",
      "(1, 232, 197)\n",
      "| 1000.00, 0.00, 159000.00|\n",
      "| 0.00,-1000.00, 396000.00|\n",
      "| 0.00, 0.00, 1.00|\n"
     ]
    }
   ],
   "source": [
    "lcm1990_wales, lcm1990_wales_transform = rasterio.mask.mask(dataset=lcm1990v2, shapes=wales.geometry, crop=True)\n",
    "print(lcm1990_wales.shape)\n",
    "print(lcm1990_wales_transform)\n",
    "write_nd_to_tif(lcm1990_wales, lcm1990v2.meta, lcm1990_wales_transform, \"data/output/lcm1990_wales.tif\")\n",
    "\n",
    "lcm2000_wales, lcm2000_wales_transform = rasterio.mask.mask(dataset=lcm2000, shapes=wales.geometry, crop=True)\n",
    "print(lcm2000_wales.shape)\n",
    "print(lcm2000_wales_transform)\n",
    "write_nd_to_tif(lcm2000_wales, lcm2000.meta, lcm2000_wales_transform, \"data/output/lcm2000_wales.tif\")"
   ]
  },
  {
   "cell_type": "markdown",
   "metadata": {},
   "source": [
    "<a name=\"section3\"></a>\n",
    "### Re-classify Land Cover Classes\n",
    "\n",
    "The [Land Cover Change 1990-2015 25m product](https://www.ceh.ac.uk/services/land-cover-change-1990-2015) represents the land surface using only six classes. Other Land Cover Map products produced by UKCEH have many more classes, but for the change product the maps were re-classified to have fewer classes. "
   ]
  },
  {
   "cell_type": "markdown",
   "metadata": {},
   "source": [
    "For example, lets quickly identify the unique values in our land cover maps and how many times they are observed (i.e. how many pixels fall in each land cover class). Because are data are `numpy` objects (i.e. `ndarray`'s) we can use `numpy`'s `.unique` [function](https://numpy.org/doc/stable/reference/generated/numpy.unique.html) to [count the occurrence of each value](https://stackoverflow.com/a/28663910):"
   ]
  },
  {
   "cell_type": "code",
   "execution_count": 31,
   "metadata": {},
   "outputs": [
    {
     "name": "stdout",
     "output_type": "stream",
     "text": [
      "{0: 24979, 1: 570, 2: 1200, 3: 384, 4: 12222, 5: 150, 7: 4373, 8: 26, 9: 431, 10: 305, 11: 166, 12: 67, 13: 17, 14: 43, 15: 1, 16: 65, 18: 39, 19: 59, 20: 115, 21: 492}\n",
      "\n",
      "\n",
      "{0: 24914, 1: 104, 2: 59, 4: 85, 5: 28, 7: 36, 8: 34, 9: 408, 10: 307, 12: 525, 13: 1435, 14: 11056, 15: 1199, 17: 104, 18: 966, 19: 3517, 20: 6, 21: 54, 22: 207, 24: 574, 25: 86}\n",
      "\n",
      "\n",
      "{0: 24914, 1: 592, 2: 1452, 3: 476, 4: 12022, 5: 60, 6: 1, 7: 4284, 8: 27, 9: 375, 10: 185, 11: 239, 12: 35, 13: 10, 14: 49, 15: 5, 16: 76, 17: 1, 18: 45, 19: 62, 20: 129, 21: 665}\n"
     ]
    }
   ],
   "source": [
    "lcm1990_wales = rio.open('data/output/lcm1990_wales.tif')\n",
    "lcm2000_wales = rio.open('data/output/lcm2000_wales.tif')\n",
    "lcm2015_wales = rio.open('data/output/lcm2015_wales.tif')\n",
    "\n",
    "lcm1990_wales15 = lcm1990_wales.read(1)\n",
    "lcm2000_wales15 = lcm2000_wales.read(1)\n",
    "lcm2015_wales15 = lcm2015_wales.read(1)\n",
    "\n",
    "unique, counts = np.unique(lcm1990_wales15, return_counts=True)  #get the unique values and counts\n",
    "counts1990 = dict(zip(unique, counts))                         #combine them into a dict for easier viewing\n",
    "\n",
    "unique, counts = np.unique(lcm2000_wales15, return_counts=True)\n",
    "counts2000 = dict(zip(unique, counts))\n",
    "\n",
    "unique, counts = np.unique(lcm2015_wales15, return_counts=True)\n",
    "counts2015 = dict(zip(unique, counts))\n",
    "\n",
    "print(counts1990)\n",
    "print('\\n')\n",
    "print(counts2000)\n",
    "print('\\n')\n",
    "print(counts2015)"
   ]
  },
  {
   "cell_type": "markdown",
   "metadata": {},
   "source": [
    "We can see there are many more `0`s than other values - these are the No Data values. For 1990 and 2015 the next highest count is for class `4` and we have 21 classes, but for 2000 the next highest count is for class `14` and there are 25 classes. Clearly we have different classifications between the years. The code below re-classifies these data into a single, consistent classification. The new classification will have six clases and so will also be simpler. "
   ]
  },
  {
   "cell_type": "markdown",
   "metadata": {},
   "source": [
    "Reclassification is quite common when working with land cover data. \n",
    "\n",
    "<img src=\"https://www.earthdatascience.org/images/earth-analytics/raster-data/reclass-raster-esri.gif\" width=\"400px\"></img>\n",
    "\n",
    "As EarthLab [explain](https://www.earthdatascience.org/courses/use-data-open-source-python/intro-raster-data-python/raster-data-processing/classify-plot-raster-data-in-python/), \n",
    "\n",
    "> When you reclassify a raster, you create a new raster. In that raster, each cell from the old raster is mapped to the new raster. The values in the new raster are applied using a defined range of values or a raster map. For example above you can see that all cells that contains the values 1-3 are assigned the new value of 5. \n",
    "\n",
    "We will re-classify our 1km data for to the same classes as used in the 1990-2015 25m product. This will enable us to more closely reproduce the result presented by Clare Rowland (see top). "
   ]
  },
  {
   "cell_type": "markdown",
   "metadata": {},
   "source": [
    "But first, we'll see the proof-of-concept of how to do with with `ndarray` in python. "
   ]
  },
  {
   "cell_type": "markdown",
   "metadata": {},
   "source": [
    "### Proof of Concept\n",
    "\n",
    "To see how re-classification works, we'll generate a small 2D `ndarray` to work with:"
   ]
  },
  {
   "cell_type": "code",
   "execution_count": 32,
   "metadata": {},
   "outputs": [
    {
     "name": "stdout",
     "output_type": "stream",
     "text": [
      "[[ 0  1  2  3  4]\n",
      " [ 5  6  7  8  9]\n",
      " [10 11 12 13 14]\n",
      " [15 16 17 18 19]\n",
      " [20 21 22 23 24]]\n"
     ]
    }
   ],
   "source": [
    "original = np.ndarray(shape=(5,5), buffer=np.arange(25), dtype=int)\n",
    "print(original)"
   ]
  },
  {
   "cell_type": "markdown",
   "metadata": {},
   "source": [
    "We need to create a ([deep](https://www.geeksforgeeks.org/copy-python-deep-copy-shallow-copy/)) copy of the `ndarray` to hold the new values after re-classification (remember when we reclassify a raster, we create a new raster): "
   ]
  },
  {
   "cell_type": "code",
   "execution_count": 33,
   "metadata": {},
   "outputs": [
    {
     "name": "stdout",
     "output_type": "stream",
     "text": [
      "[[ 0  1  2  3  4]\n",
      " [ 5  6  7  8  9]\n",
      " [10 11 12 13 14]\n",
      " [15 16 17 18 19]\n",
      " [20 21 22 23 24]]\n"
     ]
    }
   ],
   "source": [
    "modified = copy.deepcopy(original)\n",
    "print(modified)"
   ]
  },
  {
   "cell_type": "markdown",
   "metadata": {},
   "source": [
    "Next, we need to define the re-classification rules. That is, we need to specify what values should change _from_ and _to_. A `dict` will be a useful structure to do this, as we can use the `key`s as the _from_ (old) value and the `value`s as the _to_ (new) value. \n",
    "\n",
    "For example, let's say we want to change values in our `ndarray` as shown in the table below, with all other values remaining the same:\n",
    "\n",
    "| old | new |\n",
    "| --- | --- |\n",
    "| 5   | -1  |\n",
    "| 11  | -3  |\n",
    "| 17  | -2  |\n",
    "| 23  | -4  |\n",
    "\n",
    "Our `dict` to do this would look like the following:"
   ]
  },
  {
   "cell_type": "code",
   "execution_count": 34,
   "metadata": {},
   "outputs": [],
   "source": [
    "changes = {5: -1, 11: -3, 17: -2, 23:-4}"
   ]
  },
  {
   "cell_type": "markdown",
   "metadata": {},
   "source": [
    "Now we can loop over this `dict` using the `key` to identify _old_ values in the `ndarray` to change to _new_: "
   ]
  },
  {
   "cell_type": "code",
   "execution_count": 35,
   "metadata": {},
   "outputs": [],
   "source": [
    "for old, new in changes.items(): \n",
    "    modified[original==old]=new"
   ]
  },
  {
   "cell_type": "markdown",
   "metadata": {},
   "source": [
    "Printing out our two rasters now we can compare the result of the re-classification:"
   ]
  },
  {
   "cell_type": "code",
   "execution_count": 36,
   "metadata": {},
   "outputs": [
    {
     "name": "stdout",
     "output_type": "stream",
     "text": [
      "[[ 0  1  2  3  4]\n",
      " [ 5  6  7  8  9]\n",
      " [10 11 12 13 14]\n",
      " [15 16 17 18 19]\n",
      " [20 21 22 23 24]]\n",
      "\n",
      "\n",
      "[[ 0  1  2  3  4]\n",
      " [-1  6  7  8  9]\n",
      " [10 -3 12 13 14]\n",
      " [15 16 -2 18 19]\n",
      " [20 21 22 -4 24]]\n"
     ]
    }
   ],
   "source": [
    "print(original)\n",
    "print('\\n')\n",
    "print(modified)"
   ]
  },
  {
   "cell_type": "markdown",
   "metadata": {},
   "source": [
    "Check you understand how the modified `ndarray` (below) results from the re-classification of the original (above) as we wanted."
   ]
  },
  {
   "cell_type": "markdown",
   "metadata": {},
   "source": [
    "### Re-classification for Wales\n",
    "\n",
    "We re-classify data for 1990 and 2015 first, then do 2000 later (as they will require a different re-classification scheme). \n",
    "\n",
    "First, we create copies of the input raster maps (but only the single 2D layer!):"
   ]
  },
  {
   "cell_type": "code",
   "execution_count": 37,
   "metadata": {},
   "outputs": [
    {
     "name": "stdout",
     "output_type": "stream",
     "text": [
      "(232, 197)\n",
      "(232, 197)\n"
     ]
    }
   ],
   "source": [
    "lcm2015_wales6 = copy.deepcopy(lcm2015_wales15)\n",
    "lcm1990_wales6 = copy.deepcopy(lcm1990_wales15)\n",
    "\n",
    "print(lcm2015_wales6.shape)\n",
    "print(lcm1990_wales6.shape)"
   ]
  },
  {
   "cell_type": "markdown",
   "metadata": {},
   "source": [
    "Now we need to define our reclassification dictionary. The reclassification we will use is shown in Table 3 of the [Supporting Documentation](https://doi.org/10.5285/07b6e5e9-b766-48e5-a28c-5b3e35abecc0) for Rowland _et al._ (2020b) as shown in the image below:\n",
    "\n",
    "<img src=\"https://www.landscapemodelling.net/png/Table3_Rowland2020.png\" width=\"500px\"></img>\n",
    "\n",
    "Thus, our six simplified classes (from the original 21) will be:\n",
    "1. Woodland\n",
    "2. Cropland\n",
    "3. Grassland\n",
    "4. Water\n",
    "5. Built-up\n",
    "6. Other\n",
    "\n",
    "From the re-classification table above, our dictionary will be:"
   ]
  },
  {
   "cell_type": "code",
   "execution_count": 38,
   "metadata": {},
   "outputs": [],
   "source": [
    "lookup = {1:1,2:1,\n",
    "          3:2,\n",
    "          4:3,5:3,6:3,7:3,8:3,9:3,10:3,11:3,16:3,18:3,19:3,\n",
    "          14:4,\n",
    "          20:5,21:5,\n",
    "          12:6,13:6,15:6,17:6}"
   ]
  },
  {
   "cell_type": "markdown",
   "metadata": {},
   "source": [
    "Check you can see how the dictionary corresponds to Table 3 above. Remember, `key`s are _from_ and `value`s are _to_ and we're going from 21 classes to 6. \n",
    "\n",
    "We can now loop over the dictionary to modify values in both copies of the land cover maps: "
   ]
  },
  {
   "cell_type": "code",
   "execution_count": 39,
   "metadata": {},
   "outputs": [],
   "source": [
    "for old, new in lookup.items(): \n",
    "    lcm2015_wales6[lcm2015_wales15 == old]=new\n",
    "    lcm1990_wales6[lcm1990_wales15 == old]=new"
   ]
  },
  {
   "cell_type": "markdown",
   "metadata": {},
   "source": [
    "Quick reminder of the shape of the `ndarray` we've produced:"
   ]
  },
  {
   "cell_type": "code",
   "execution_count": 40,
   "metadata": {},
   "outputs": [
    {
     "data": {
      "text/plain": [
       "(232, 197)"
      ]
     },
     "execution_count": 40,
     "metadata": {},
     "output_type": "execute_result"
    }
   ],
   "source": [
    "lcm2015_wales6.shape"
   ]
  },
  {
   "cell_type": "markdown",
   "metadata": {},
   "source": [
    "We can check if this has been successful by examining the unique values and counts of the new raster maps:"
   ]
  },
  {
   "cell_type": "code",
   "execution_count": 41,
   "metadata": {},
   "outputs": [
    {
     "name": "stdout",
     "output_type": "stream",
     "text": [
      "{0: 24979, 1: 1770, 2: 384, 3: 17836, 4: 43, 5: 607, 6: 85}\n",
      "\n",
      "\n",
      "{0: 24914, 1: 2044, 2: 476, 3: 17376, 4: 49, 5: 794, 6: 51}\n"
     ]
    }
   ],
   "source": [
    "unique, counts = np.unique(lcm1990_wales6, return_counts=True)  #get the unique values and counts\n",
    "counts1990_6 = dict(zip(unique, counts))                         #combine them into a dict for easier viewing\n",
    "\n",
    "unique, counts = np.unique(lcm2015_wales6, return_counts=True)\n",
    "counts2015_6 = dict(zip(unique, counts))\n",
    "\n",
    "print(counts1990_6)\n",
    "print('\\n')\n",
    "print(counts2015_6)"
   ]
  },
  {
   "cell_type": "markdown",
   "metadata": {},
   "source": [
    "Looks good!\n"
   ]
  },
  {
   "cell_type": "markdown",
   "metadata": {},
   "source": [
    "Now for the 2000 data. As we saw above we have different counts and classes in the original 2000 data, so we need a different re-classification for 2000 (than for 1990 and 2015). For the reclass we should actually refer to the table in _lcm2000_raster_dataset_details.pdf_ but then otherwise we follow the same process:"
   ]
  },
  {
   "cell_type": "code",
   "execution_count": 42,
   "metadata": {},
   "outputs": [],
   "source": [
    "d2000 = {12:1,13:1,\n",
    "         21:2,22:2,23:2,\n",
    "         4:3,5:3,7:3,8:3,9:3,10:3,14:3,15:3,16:3,16:3,17:3,18:3,19:3,20:3,\n",
    "         1:4,2:4,\n",
    "         24:5,25:5,\n",
    "         6:6,11:6,26:6}\n",
    "\n",
    "lcm2000_wales6 = copy.deepcopy(lcm2000_wales15)\n",
    "\n",
    "for old, new in d2000.items(): \n",
    "    lcm2000_wales6[lcm2000_wales15 == old]=new"
   ]
  },
  {
   "cell_type": "markdown",
   "metadata": {},
   "source": [
    "### Writing reclass raster to file\n",
    "\n",
    "As we have created new six-class rasters, it might be god to write these out to file in case we want to share them or use again without needing to re-create. \n",
    "\n",
    "We can use the `write_nd_to_tif` we created above, but first we need to remember that `rasterio` expects a 3D `ndarray`, whereas we have created a 2D `ndarray` when reclassifying:"
   ]
  },
  {
   "cell_type": "code",
   "execution_count": 43,
   "metadata": {},
   "outputs": [
    {
     "data": {
      "text/plain": [
       "(232, 197)"
      ]
     },
     "execution_count": 43,
     "metadata": {},
     "output_type": "execute_result"
    }
   ],
   "source": [
    "lcm2015_wales6.shape"
   ]
  },
  {
   "cell_type": "markdown",
   "metadata": {},
   "source": [
    "So first we need to 'add' the dimension we removed. We can do this using the `reshape` [function](https://numpy.org/doc/stable/reference/generated/numpy.ndarray.reshape.html#numpy.ndarray.reshape):"
   ]
  },
  {
   "cell_type": "code",
   "execution_count": 44,
   "metadata": {},
   "outputs": [],
   "source": [
    "lcm1990_wales6_out = lcm1990_wales6.reshape(1, *lcm1990_wales6.shape)  \n",
    "lcm2000_wales6_out = lcm2000_wales6.reshape(1, *lcm2000_wales6.shape)  \n",
    "lcm2015_wales6_out = lcm2015_wales6.reshape(1, *lcm2015_wales6.shape)  "
   ]
  },
  {
   "cell_type": "code",
   "execution_count": 45,
   "metadata": {},
   "outputs": [
    {
     "data": {
      "text/plain": [
       "(1, 232, 197)"
      ]
     },
     "execution_count": 45,
     "metadata": {},
     "output_type": "execute_result"
    }
   ],
   "source": [
    "lcm2015_wales6_out.shape"
   ]
  },
  {
   "cell_type": "markdown",
   "metadata": {},
   "source": [
    "So now we can write these 3D data to file as before:"
   ]
  },
  {
   "cell_type": "code",
   "execution_count": 47,
   "metadata": {},
   "outputs": [],
   "source": [
    "write_nd_to_tif(lcm1990_wales6_out,  lcm1990v2.meta, lcm1990_wales_transform, \n",
    "                \"data/output/lcm1990_wales6.tif\")\n",
    "\n",
    "write_nd_to_tif(lcm2000_wales6_out,  lcm2000.meta, lcm2000_wales_transform, \n",
    "                \"data/output/lcm2000_wales6.tif\")\n",
    "\n",
    "write_nd_to_tif(lcm2015_wales6_out, lcm2015.meta, lcm2015_wales_transform, \n",
    "                \"data/output/lcm2015_wales6.tif\")"
   ]
  },
  {
   "cell_type": "markdown",
   "metadata": {},
   "source": [
    "## Credits!\n",
    "\n",
    "#### Contributors:\n",
    "The following individuals have contributed to these teaching materials: James Millington (james.millington@kcl.ac.uk)\n",
    "\n",
    "#### License\n",
    "These teaching materials are licensed under a mix of [The MIT License](https://opensource.org/licenses/mit-license.php) and the [Creative Commons Attribution-NonCommercial-ShareAlike 4.0 license](https://creativecommons.org/licenses/by-nc-sa/4.0/).\n",
    "\n",
    "#### Potential Dependencies:\n",
    "This notebook may depend on the following libraries: rasterio, geopandas, matplotlib, pandas, numpy, copy, sys"
   ]
  },
  {
   "cell_type": "code",
   "execution_count": null,
   "metadata": {},
   "outputs": [],
   "source": []
  }
 ],
 "metadata": {
  "kernelspec": {
   "display_name": "Python 3 (ipykernel)",
   "language": "python",
   "name": "python3"
  },
  "language_info": {
   "codemirror_mode": {
    "name": "ipython",
    "version": 3
   },
   "file_extension": ".py",
   "mimetype": "text/x-python",
   "name": "python",
   "nbconvert_exporter": "python",
   "pygments_lexer": "ipython3",
   "version": "3.8.10"
  }
 },
 "nbformat": 4,
 "nbformat_minor": 2
}
