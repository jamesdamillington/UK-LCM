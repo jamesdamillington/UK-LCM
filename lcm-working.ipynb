{
 "cells": [
  {
   "cell_type": "markdown",
   "metadata": {},
   "source": [
    "# Analysis of UK LCM\n",
    "\n",
    "Notebook to develop teaching materials to analyse landscape change with raster data. [UK LCM data](https://www.ceh.ac.uk/ukceh-land-cover-maps) as a case study. \n"
   ]
  },
  {
   "cell_type": "markdown",
   "metadata": {},
   "source": [
    "Use West of England Green Infrastructure Areas as a case study? As used in the following reports\n",
    "\n",
    "1. https://www.westofengland-ca.gov.uk/west-of-england-joint-green-infrastructure-strategy/ \n",
    "2. https://forestofavontrust.org/forest-of-avon-plan/\n",
    "\n",
    "Downloaded data from Edina Digimap:\n",
    "- LCM 1990 (1km and 25m)\n",
    "- LCM 2015 (1km and 25m)\n",
    "- [LCC 1990-2015 (25m)](https://www.ceh.ac.uk/services/land-cover-change-1990-2015) - this contains 6 class, simplified maps\n",
    "\n",
    "\n",
    "Likely need to use:\n",
    "- [rioxarray](https://corteva.github.io/rioxarray/stable/)\n",
    "- some [raster algebra](https://automating-gis-processes.github.io/CSC/notebooks/L5/raster-map-algebra.html)\n",
    "- could go back to [base GDAL](https://www.youtube.com/watch?v=iBrB2bdxUlw)?\n",
    "\n"
   ]
  },
  {
   "cell_type": "code",
   "execution_count": null,
   "metadata": {},
   "outputs": [],
   "source": []
  }
 ],
 "metadata": {
  "kernelspec": {
   "display_name": "Python [conda env:sds2020]",
   "language": "python",
   "name": "conda-env-sds2020-py"
  },
  "language_info": {
   "codemirror_mode": {
    "name": "ipython",
    "version": 3
   },
   "file_extension": ".py",
   "mimetype": "text/x-python",
   "name": "python",
   "nbconvert_exporter": "python",
   "pygments_lexer": "ipython3",
   "version": "3.6.11"
  }
 },
 "nbformat": 4,
 "nbformat_minor": 2
}
