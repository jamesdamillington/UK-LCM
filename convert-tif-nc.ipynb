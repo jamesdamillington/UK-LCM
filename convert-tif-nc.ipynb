{
 "cells": [
  {
   "cell_type": "markdown",
   "metadata": {},
   "source": [
    "Demonstrating how to convert raster data from geotiff (.tif) format to NetCDF (.nc). Based on [NSIDC](https://nsidc.org/support/faq/how-can-i-convert-geotiff-netcdf). Uses \n",
    "\n",
    "Note that the data is never read into the notebook (and so cannot be visualised here). The result of the conversion is a new file with the name and path location specicifed by `outfile`.\n",
    "\n",
    "We use [`osgeo`](https://pypi.org/project/osgeo/) as we do not have `gdal` directly available in our environment."
   ]
  },
  {
   "cell_type": "code",
   "execution_count": 1,
   "metadata": {},
   "outputs": [],
   "source": [
    "from osgeo import gdal "
   ]
  },
  {
   "cell_type": "code",
   "execution_count": 2,
   "metadata": {},
   "outputs": [],
   "source": [
    "#Change the following variables to the file you want to convert (inputfile) and\n",
    "#what you want to name your output file (outputfile).\n",
    "inputfile = 'data-working/LCM/lcm-1990-1km_4137015/dominant_value/LCM1990GBDOMINANT_.tif'\n",
    "outputfile = 'data-working/LCM/lcm-1990-1km_4137015/dominant_value/LCM1990GBDOMINANT_.nc'"
   ]
  },
  {
   "cell_type": "code",
   "execution_count": 3,
   "metadata": {},
   "outputs": [],
   "source": [
    "#convert the geoTIFF to a netCDF\n",
    "ds = gdal.Translate(outputfile, inputfile, format='NetCDF')\n",
    "\n",
    "#check new file has been created on disc"
   ]
  }
 ],
 "metadata": {
  "kernelspec": {
   "display_name": "Python 3 (ipykernel)",
   "language": "python",
   "name": "python3"
  },
  "language_info": {
   "codemirror_mode": {
    "name": "ipython",
    "version": 3
   },
   "file_extension": ".py",
   "mimetype": "text/x-python",
   "name": "python",
   "nbconvert_exporter": "python",
   "pygments_lexer": "ipython3",
   "version": "3.8.10"
  }
 },
 "nbformat": 4,
 "nbformat_minor": 2
}
